{
  "nbformat": 4,
  "nbformat_minor": 0,
  "metadata": {
    "colab": {
      "name": "PythonPQ",
      "provenance": [],
      "authorship_tag": "ABX9TyNIzbSZkULB32UvB+o+1L2m"
    },
    "kernelspec": {
      "name": "python3",
      "display_name": "Python 3"
    }
  },
  "cells": [
    {
      "cell_type": "markdown",
      "metadata": {
        "id": "MUEqAzjkhabs",
        "colab_type": "text"
      },
      "source": [
        "##Question 1##\n",
        "\n",
        "``` \n",
        "A function that inputs a number and prints the multiplication table of that number\n",
        "\n",
        "```\n",
        "\n"
      ]
    },
    {
      "cell_type": "code",
      "metadata": {
        "id": "mdsGC_83bzRB",
        "colab_type": "code",
        "colab": {}
      },
      "source": [
        "def mult_table():\n",
        "  try:\n",
        "    n = int(input(\"Please enter a valid number:\"))\n",
        "    l = range(1,11)\n",
        "    table = list(map(lambda x: x*n, l))\n",
        "    return table\n",
        "  except(ValueError):\n",
        "    print(\"Oops! Its a Value Error. Please input integers only\")\n",
        "  "
      ],
      "execution_count": null,
      "outputs": []
    },
    {
      "cell_type": "code",
      "metadata": {
        "id": "85pkHe9ZjAFo",
        "colab_type": "code",
        "colab": {
          "base_uri": "https://localhost:8080/",
          "height": 50
        },
        "outputId": "ff0fa924-c985-444f-833f-a86c5d83706a"
      },
      "source": [
        "mult_table()"
      ],
      "execution_count": null,
      "outputs": [
        {
          "output_type": "stream",
          "text": [
            "Please enter a valid number:1.2\n",
            "Oops! Its a Value Error. Please input integers only\n"
          ],
          "name": "stdout"
        }
      ]
    },
    {
      "cell_type": "markdown",
      "metadata": {
        "id": "K4NlxPOum-0X",
        "colab_type": "text"
      },
      "source": [
        "##Question 2##\n"
      ]
    },
    {
      "cell_type": "code",
      "metadata": {
        "id": "-ZwPQbne0Ea-",
        "colab_type": "code",
        "colab": {
          "base_uri": "https://localhost:8080/",
          "height": 605
        },
        "outputId": "93e7a8f1-ea3a-4e93-f5df-3bcbf829883e"
      },
      "source": [
        "def twin():\n",
        "  '''this function finds twin primes below 1000'''\n",
        "  ans = []\n",
        "  for n in range(2,1000):\n",
        "    l1 = list(filter(lambda x: (n%x == 0), list(range(2,n))))\n",
        "    l2 = list(filter(lambda x: ((n+2)%x == 0), list(range(2,n+2))))\n",
        "    if len(l1)==0 and len(l2)==0:\n",
        "      ans.append([n,n+2])\n",
        "  return ans\n",
        "twin()"
      ],
      "execution_count": null,
      "outputs": [
        {
          "output_type": "execute_result",
          "data": {
            "text/plain": [
              "[[3, 5],\n",
              " [5, 7],\n",
              " [11, 13],\n",
              " [17, 19],\n",
              " [29, 31],\n",
              " [41, 43],\n",
              " [59, 61],\n",
              " [71, 73],\n",
              " [101, 103],\n",
              " [107, 109],\n",
              " [137, 139],\n",
              " [149, 151],\n",
              " [179, 181],\n",
              " [191, 193],\n",
              " [197, 199],\n",
              " [227, 229],\n",
              " [239, 241],\n",
              " [269, 271],\n",
              " [281, 283],\n",
              " [311, 313],\n",
              " [347, 349],\n",
              " [419, 421],\n",
              " [431, 433],\n",
              " [461, 463],\n",
              " [521, 523],\n",
              " [569, 571],\n",
              " [599, 601],\n",
              " [617, 619],\n",
              " [641, 643],\n",
              " [659, 661],\n",
              " [809, 811],\n",
              " [821, 823],\n",
              " [827, 829],\n",
              " [857, 859],\n",
              " [881, 883]]"
            ]
          },
          "metadata": {
            "tags": []
          },
          "execution_count": 55
        }
      ]
    },
    {
      "cell_type": "markdown",
      "metadata": {
        "id": "bgrz7zxBrQZ_",
        "colab_type": "text"
      },
      "source": [
        "##Question 3##"
      ]
    },
    {
      "cell_type": "code",
      "metadata": {
        "id": "ktgXleL_rWU2",
        "colab_type": "code",
        "colab": {}
      },
      "source": [
        "def prime_fact(n):\n",
        "  ''' this function finds out the prime factors of the number'''\n",
        "  \n",
        "  ans = []\n",
        "  for i in range(2,n):\n",
        "    while (n%i == 0):\n",
        "      n = n/i\n",
        "      ans.append(i)\n",
        "    if n==1:\n",
        "      return ans"
      ],
      "execution_count": null,
      "outputs": []
    },
    {
      "cell_type": "code",
      "metadata": {
        "id": "Q5HZsOpvrtWa",
        "colab_type": "code",
        "colab": {
          "base_uri": "https://localhost:8080/",
          "height": 34
        },
        "outputId": "1b37fada-73ac-4868-9634-3895079bdf0c"
      },
      "source": [
        "prime_fact(16)"
      ],
      "execution_count": null,
      "outputs": [
        {
          "output_type": "execute_result",
          "data": {
            "text/plain": [
              "[2, 2, 2, 2]"
            ]
          },
          "metadata": {
            "tags": []
          },
          "execution_count": 4
        }
      ]
    },
    {
      "cell_type": "markdown",
      "metadata": {
        "id": "U0R1yiIXsBys",
        "colab_type": "text"
      },
      "source": [
        "##Question 4##"
      ]
    },
    {
      "cell_type": "code",
      "metadata": {
        "id": "RCgnvECVrvgM",
        "colab_type": "code",
        "colab": {}
      },
      "source": [
        "def fact(n):\n",
        "  '''this function performs the factorial operation'''\n",
        "\n",
        "  if n==1:\n",
        "    return n\n",
        "  else:\n",
        "    return (n*fact(n-1))\n",
        "\n",
        "def permutation(n,r):\n",
        "  ''' this function calculates the number of permutations of n objects taken r at a time'''\n",
        "  return fact(n)/fact(n-r)\n",
        "\n",
        "def combination(n,r):\n",
        "  ''' this function calculates the number of combinations of n objects taken r at a time'''\n",
        "  return permuation(n,r)/fact(n)"
      ],
      "execution_count": null,
      "outputs": []
    },
    {
      "cell_type": "code",
      "metadata": {
        "id": "u4jGdTt4vJ8I",
        "colab_type": "code",
        "colab": {
          "base_uri": "https://localhost:8080/",
          "height": 34
        },
        "outputId": "5f7d5377-8d09-46af-eb1b-c842746aa525"
      },
      "source": [
        "permutation(4,2)"
      ],
      "execution_count": null,
      "outputs": [
        {
          "output_type": "execute_result",
          "data": {
            "text/plain": [
              "12.0"
            ]
          },
          "metadata": {
            "tags": []
          },
          "execution_count": 6
        }
      ]
    },
    {
      "cell_type": "markdown",
      "metadata": {
        "id": "tewsyAIWzJxs",
        "colab_type": "text"
      },
      "source": [
        "##Question 5##"
      ]
    },
    {
      "cell_type": "code",
      "metadata": {
        "id": "COsNoDhUxbYe",
        "colab_type": "code",
        "colab": {}
      },
      "source": [
        "\n",
        "def dec_to_binary(n):\n",
        "  ''' this function converts a decimal number to binary '''\n",
        "  ans = []\n",
        "\n",
        "  while n>1:\n",
        "    ans.append(n%2)\n",
        "    n = int(n/2)\n",
        "  ans.append(1)\n",
        "  ans.reverse()\n",
        "\n",
        "  return ans "
      ],
      "execution_count": null,
      "outputs": []
    },
    {
      "cell_type": "code",
      "metadata": {
        "id": "BCANxhM7zlix",
        "colab_type": "code",
        "colab": {
          "base_uri": "https://localhost:8080/",
          "height": 34
        },
        "outputId": "bcd646d1-cf78-4d80-8510-8fadd0cda775"
      },
      "source": [
        "dec_to_binary(339)"
      ],
      "execution_count": null,
      "outputs": [
        {
          "output_type": "execute_result",
          "data": {
            "text/plain": [
              "[1, 0, 1, 0, 1, 0, 0, 1, 1]"
            ]
          },
          "metadata": {
            "tags": []
          },
          "execution_count": 32
        }
      ]
    },
    {
      "cell_type": "markdown",
      "metadata": {
        "id": "YJRm09RY48t1",
        "colab_type": "text"
      },
      "source": [
        "##Question 6##"
      ]
    },
    {
      "cell_type": "code",
      "metadata": {
        "id": "Mcl12BztzobK",
        "colab_type": "code",
        "colab": {}
      },
      "source": [
        "def cubesome(n):\n",
        "  ''' This function returns the sum of the cubes of individual digits of that number'''\n",
        "\n",
        "  sum = 0\n",
        "  while n>10:\n",
        "    d = n%10\n",
        "    sum += d**3\n",
        "    n = (n-d)/10\n",
        "  sum += n**3\n",
        "  return sum\n",
        "\n",
        "def is_armstrong(n):\n",
        "  ''' checks if the n is armstrong number'''\n",
        "\n",
        "  if cubesome(n)==n:\n",
        "    return True\n",
        "  return False\n",
        "def printarmstrong(n):\n",
        "  '''This function prints all the armstrong numbers less  than n'''\n",
        "\n",
        "  return list(filter(is_armstrong,list(range(n))))"
      ],
      "execution_count": null,
      "outputs": []
    },
    {
      "cell_type": "code",
      "metadata": {
        "id": "Vrtf9z555dIZ",
        "colab_type": "code",
        "colab": {
          "base_uri": "https://localhost:8080/",
          "height": 34
        },
        "outputId": "1d3fff80-1993-4c22-ccee-5894608179bc"
      },
      "source": [
        "printarmstrong(1000)"
      ],
      "execution_count": null,
      "outputs": [
        {
          "output_type": "execute_result",
          "data": {
            "text/plain": [
              "[0, 1, 153, 370, 371, 407]"
            ]
          },
          "metadata": {
            "tags": []
          },
          "execution_count": 41
        }
      ]
    },
    {
      "cell_type": "markdown",
      "metadata": {
        "id": "AYJJS-n87Hsv",
        "colab_type": "text"
      },
      "source": [
        "##Question 7##"
      ]
    },
    {
      "cell_type": "code",
      "metadata": {
        "id": "8hNB9khY5fG4",
        "colab_type": "code",
        "colab": {}
      },
      "source": [
        "def prodDigits(n):\n",
        "  '''return product of the digits of the number n'''\n",
        "  if n<10:\n",
        "    return n\n",
        "  else:\n",
        "    d = n%10\n",
        "    return d*prodDigits((n-d)/10)\n",
        "  "
      ],
      "execution_count": 2,
      "outputs": []
    },
    {
      "cell_type": "code",
      "metadata": {
        "id": "nbBj8Gc58P-F",
        "colab_type": "code",
        "colab": {
          "base_uri": "https://localhost:8080/",
          "height": 34
        },
        "outputId": "16dde90c-557f-4cc4-db23-ad2a2e3a7260"
      },
      "source": [
        "prodDigits(19119)"
      ],
      "execution_count": 3,
      "outputs": [
        {
          "output_type": "execute_result",
          "data": {
            "text/plain": [
              "81.0"
            ]
          },
          "metadata": {
            "tags": []
          },
          "execution_count": 3
        }
      ]
    },
    {
      "cell_type": "markdown",
      "metadata": {
        "id": "ZMAi1UhvUnFc",
        "colab_type": "text"
      },
      "source": [
        "##Question 8##"
      ]
    },
    {
      "cell_type": "code",
      "metadata": {
        "id": "hlSut4Jo8SDd",
        "colab_type": "code",
        "colab": {}
      },
      "source": [
        "def MDR():\n",
        "  '''This function inputs a number and return its multiplicative digital root''' \n",
        "\n",
        "  n = int(input('Please enter a valid number: '))\n",
        "  while (n%10 != n):\n",
        "    n = prodDigits(n)\n",
        "  return n\n",
        "\n",
        "def MPersistence():\n",
        "  '''This function inputs a number and return its multiplicative persistence''' \n",
        "  n = int(input('Please enter a valid number: '))\n",
        "  count = 0\n",
        "  while (n%10 != n):\n",
        "    n = prodDigits(n)\n",
        "    count += 1\n",
        "  return count"
      ],
      "execution_count": 4,
      "outputs": []
    },
    {
      "cell_type": "code",
      "metadata": {
        "id": "nTUahRiLXGtO",
        "colab_type": "code",
        "colab": {
          "base_uri": "https://localhost:8080/",
          "height": 50
        },
        "outputId": "2fbee70c-903d-4375-ff7b-2fc1caed4486"
      },
      "source": [
        "MDR()"
      ],
      "execution_count": 6,
      "outputs": [
        {
          "output_type": "stream",
          "text": [
            "Please enter a valid number: 341\n"
          ],
          "name": "stdout"
        },
        {
          "output_type": "execute_result",
          "data": {
            "text/plain": [
              "2.0"
            ]
          },
          "metadata": {
            "tags": []
          },
          "execution_count": 6
        }
      ]
    },
    {
      "cell_type": "code",
      "metadata": {
        "id": "ZIPW4ZS0XIEn",
        "colab_type": "code",
        "colab": {
          "base_uri": "https://localhost:8080/",
          "height": 50
        },
        "outputId": "52800dd6-f85a-414e-9526-2e3882408d49"
      },
      "source": [
        "MPersistence()"
      ],
      "execution_count": 9,
      "outputs": [
        {
          "output_type": "stream",
          "text": [
            "Please enter a valid number: 341\n"
          ],
          "name": "stdout"
        },
        {
          "output_type": "execute_result",
          "data": {
            "text/plain": [
              "2"
            ]
          },
          "metadata": {
            "tags": []
          },
          "execution_count": 9
        }
      ]
    },
    {
      "cell_type": "markdown",
      "metadata": {
        "id": "qLFhj9CYaw2O",
        "colab_type": "text"
      },
      "source": [
        "##Question 9##"
      ]
    },
    {
      "cell_type": "code",
      "metadata": {
        "id": "kePz8p6VXSAD",
        "colab_type": "code",
        "colab": {}
      },
      "source": [
        "\n",
        "def sumPdivisors(n):\n",
        "  '''This function inputs a number and finds the sum of its proper divisors'''\n",
        "  l = list(filter(lambda x: (n%x == 0), list(range(1,n))))\n",
        "  return sum(l)\n"
      ],
      "execution_count": 3,
      "outputs": []
    },
    {
      "cell_type": "code",
      "metadata": {
        "id": "923YBDRrZBlc",
        "colab_type": "code",
        "colab": {
          "base_uri": "https://localhost:8080/",
          "height": 34
        },
        "outputId": "7a14f563-7c61-49c0-8506-20c6f03bc9c1"
      },
      "source": [
        "sumPdivisors(36)"
      ],
      "execution_count": 32,
      "outputs": [
        {
          "output_type": "execute_result",
          "data": {
            "text/plain": [
              "55"
            ]
          },
          "metadata": {
            "tags": []
          },
          "execution_count": 32
        }
      ]
    },
    {
      "cell_type": "markdown",
      "metadata": {
        "id": "vGrLup2YbFB0",
        "colab_type": "text"
      },
      "source": [
        "##Question 10##"
      ]
    },
    {
      "cell_type": "code",
      "metadata": {
        "id": "-WHXVXGeZDTZ",
        "colab_type": "code",
        "colab": {}
      },
      "source": [
        "import sys\n",
        "def printPerfect():\n",
        "  '''This funciton inputs a number n and print all the perfect numbers in a given range(n)'''\n",
        "  try:\n",
        "    n = int(input('Please enter a valid number to set the range:'))\n",
        "    l = list(filter(lambda x: (sumPdivisors(x)==x),list(range(n))))\n",
        "    print('All the perfect numbers in range {0} are:'.format(n))\n",
        "    return l\n",
        "  except:\n",
        "    print('Invalid Input!!!', sys.exc_info()[0], 'Occured')\n",
        "  "
      ],
      "execution_count": 35,
      "outputs": []
    },
    {
      "cell_type": "code",
      "metadata": {
        "id": "T7XPW8y3cnII",
        "colab_type": "code",
        "colab": {
          "base_uri": "https://localhost:8080/",
          "height": 67
        },
        "outputId": "88a7e759-60c3-49ff-dc02-abd222a10538"
      },
      "source": [
        "printPerfect()"
      ],
      "execution_count": 36,
      "outputs": [
        {
          "output_type": "stream",
          "text": [
            "Please enter a valid number to set the range:1000\n",
            "All the perfect numbers in range 1000 are:\n"
          ],
          "name": "stdout"
        },
        {
          "output_type": "execute_result",
          "data": {
            "text/plain": [
              "[0, 6, 28, 496]"
            ]
          },
          "metadata": {
            "tags": []
          },
          "execution_count": 36
        }
      ]
    },
    {
      "cell_type": "markdown",
      "metadata": {
        "id": "44fVRjBhPlyK",
        "colab_type": "text"
      },
      "source": [
        "##Question 11"
      ]
    },
    {
      "cell_type": "code",
      "metadata": {
        "id": "d14CFGeVcp3F",
        "colab_type": "code",
        "colab": {}
      },
      "source": [
        "def is_amicable(n):\n",
        "  '''This function finds out amicable numbers pairs from a range of given number.'''\n",
        "  l = []\n",
        "  for i in range(n):\n",
        "    for j in range(n):\n",
        "      if (i != j):\n",
        "        if sumPdivisors(i)==j and sumPdivisors(j) == i:\n",
        "          if (j,i) not in l:\n",
        "            l.append((i,j))\n",
        "  return l"
      ],
      "execution_count": 14,
      "outputs": []
    },
    {
      "cell_type": "code",
      "metadata": {
        "id": "syRPDQc6LaIz",
        "colab_type": "code",
        "colab": {
          "base_uri": "https://localhost:8080/",
          "height": 34
        },
        "outputId": "0dc3d688-b48f-4e51-de1d-99a486d6a580"
      },
      "source": [
        "is_amicable(1000)"
      ],
      "execution_count": 16,
      "outputs": [
        {
          "output_type": "execute_result",
          "data": {
            "text/plain": [
              "[(220, 284)]"
            ]
          },
          "metadata": {
            "tags": []
          },
          "execution_count": 16
        }
      ]
    },
    {
      "cell_type": "markdown",
      "metadata": {
        "id": "ptwnNKybPqIN",
        "colab_type": "text"
      },
      "source": [
        "##Question 12##"
      ]
    },
    {
      "cell_type": "code",
      "metadata": {
        "id": "7KII-Q5uLd02",
        "colab_type": "code",
        "colab": {}
      },
      "source": [
        "def odd(n):\n",
        "  '''This function filters out odd numbers from a list.'''\n",
        "  return list(filter(lambda x: (x%2 !=0), list(range(n))))"
      ],
      "execution_count": 17,
      "outputs": []
    },
    {
      "cell_type": "code",
      "metadata": {
        "id": "hNcfBdCQQavs",
        "colab_type": "code",
        "colab": {
          "base_uri": "https://localhost:8080/",
          "height": 34
        },
        "outputId": "14f41526-df05-487d-ab16-3eaf560ce957"
      },
      "source": [
        "odd(10)"
      ],
      "execution_count": 18,
      "outputs": [
        {
          "output_type": "execute_result",
          "data": {
            "text/plain": [
              "[1, 3, 5, 7, 9]"
            ]
          },
          "metadata": {
            "tags": []
          },
          "execution_count": 18
        }
      ]
    },
    {
      "cell_type": "markdown",
      "metadata": {
        "id": "4NTTirI1QfBv",
        "colab_type": "text"
      },
      "source": [
        "##Question 13##\n"
      ]
    },
    {
      "cell_type": "code",
      "metadata": {
        "id": "O9fZpZQcQcqQ",
        "colab_type": "code",
        "colab": {}
      },
      "source": [
        "def cube(n):\n",
        "  '''This function calculates cube of each elemets from list'''\n",
        "  return list(map(lambda x:x**3, list(range(n))))"
      ],
      "execution_count": 19,
      "outputs": []
    },
    {
      "cell_type": "code",
      "metadata": {
        "id": "acUQ-1BJRORw",
        "colab_type": "code",
        "colab": {
          "base_uri": "https://localhost:8080/",
          "height": 34
        },
        "outputId": "87b18f69-2618-448b-a7fd-deb3561dcd8f"
      },
      "source": [
        "cube(10)"
      ],
      "execution_count": 20,
      "outputs": [
        {
          "output_type": "execute_result",
          "data": {
            "text/plain": [
              "[0, 1, 8, 27, 64, 125, 216, 343, 512, 729]"
            ]
          },
          "metadata": {
            "tags": []
          },
          "execution_count": 20
        }
      ]
    },
    {
      "cell_type": "markdown",
      "metadata": {
        "id": "ndTJb2zxSEtL",
        "colab_type": "text"
      },
      "source": [
        "##Question 14##"
      ]
    },
    {
      "cell_type": "code",
      "metadata": {
        "id": "ZzXIBFhHRPbA",
        "colab_type": "code",
        "colab": {}
      },
      "source": [
        "def cube_even(n):\n",
        "  '''This function first filters out even numbers from a list then calculates its cube'''\n",
        "  even = list(filter(lambda x: (x%2 == 0),list(range(n))))\n",
        "  return list(map(lambda x: x**3,even))"
      ],
      "execution_count": 21,
      "outputs": []
    },
    {
      "cell_type": "code",
      "metadata": {
        "id": "UdQ6nhXKR9wZ",
        "colab_type": "code",
        "colab": {
          "base_uri": "https://localhost:8080/",
          "height": 34
        },
        "outputId": "bf83c4e5-6797-43a1-9b2a-f3c92f05190f"
      },
      "source": [
        "cube_even(10)"
      ],
      "execution_count": 22,
      "outputs": [
        {
          "output_type": "execute_result",
          "data": {
            "text/plain": [
              "[0, 8, 64, 216, 512]"
            ]
          },
          "metadata": {
            "tags": []
          },
          "execution_count": 22
        }
      ]
    },
    {
      "cell_type": "code",
      "metadata": {
        "id": "xoeXiYx1SA1G",
        "colab_type": "code",
        "colab": {}
      },
      "source": [
        ""
      ],
      "execution_count": null,
      "outputs": []
    }
  ]
}